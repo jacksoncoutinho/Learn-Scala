{
  "nbformat": 4,
  "nbformat_minor": 0,
  "metadata": {
    "colab": {
      "name": "01_Test_Python_Basic.ipynb",
      "provenance": [],
      "authorship_tag": "ABX9TyNS13WCijEelVuiXzZKT/EF",
      "include_colab_link": true
    },
    "kernelspec": {
      "name": "python3",
      "display_name": "Python 3"
    },
    "language_info": {
      "name": "python"
    }
  },
  "cells": [
    {
      "cell_type": "markdown",
      "metadata": {
        "id": "view-in-github",
        "colab_type": "text"
      },
      "source": [
        "<a href=\"https://colab.research.google.com/github/jacksoncoutinho/Learn-Scala/blob/master/01_Test_Python_Basic.ipynb\" target=\"_parent\"><img src=\"https://colab.research.google.com/assets/colab-badge.svg\" alt=\"Open In Colab\"/></a>"
      ]
    },
    {
      "cell_type": "code",
      "metadata": {
        "id": "2Lly7GOsAOKt"
      },
      "source": [
        "print(\"Hello World from GoogleColab!!!\")"
      ],
      "execution_count": null,
      "outputs": []
    }
  ]
}